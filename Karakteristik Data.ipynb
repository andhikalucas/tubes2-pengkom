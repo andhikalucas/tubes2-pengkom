{
 "cells": [
  {
   "cell_type": "markdown",
   "metadata": {},
   "source": [
    "# **Karakteristik Data**"
   ]
  },
  {
   "cell_type": "code",
   "execution_count": null,
   "metadata": {},
   "outputs": [],
   "source": [
    "import pandas as pd\n",
    "df = pd.read_csv(\"E-Com Dataset.csv\")\n",
    "print(\"Dimensi data - baris:\",df.shape[0], \"- kolom:\", df.shape[1])"
   ]
  },
  {
   "cell_type": "code",
   "execution_count": null,
   "metadata": {},
   "outputs": [
    {
     "name": "stdout",
     "output_type": "stream",
     "text": [
      "Maximum date: 2018-11-09\n",
      "Minimum date: 2018-11-01\n"
     ]
    }
   ],
   "source": [
    "df[\"Order_Date\"] = pd.to_datetime(df[\"Order_Date\"])\n",
    "max = df[\"Order_Date\"].max().date()\n",
    "min = df[\"Order_Date\"].min().date()\n",
    "\n",
    "print(f\"Maximum date: {max}\")\n",
    "print(f\"Minimum date: {min}\")"
   ]
  },
  {
   "cell_type": "code",
   "execution_count": null,
   "metadata": {},
   "outputs": [
    {
     "name": "stderr",
     "output_type": "stream",
     "text": [
      "C:\\Users\\User\\AppData\\Local\\Temp\\ipykernel_10092\\1686171113.py:1: UserWarning: Could not infer format, so each element will be parsed individually, falling back to `dateutil`. To ensure parsing is consistent and as-expected, please specify a format.\n",
      "  df[\"Time\"] = pd.to_datetime(df[\"Time\"])\n"
     ]
    },
    {
     "name": "stdout",
     "output_type": "stream",
     "text": [
      "Maximum time: 23:59:05\n",
      "Minimum time: 00:00:21\n"
     ]
    }
   ],
   "source": [
    "df[\"Time\"] = pd.to_datetime(df[\"Time\"])\n",
    "max = df[\"Time\"].max().time()\n",
    "min = df[\"Time\"].min().time()\n",
    "\n",
    "print(f\"Maximum time: {max}\")\n",
    "print(f\"Minimum time: {min}\")"
   ]
  },
  {
   "cell_type": "code",
   "execution_count": null,
   "metadata": {},
   "outputs": [
    {
     "name": "stdout",
     "output_type": "stream",
     "text": [
      "Maximum aging: 10\n",
      "Minimum aging: 1\n"
     ]
    }
   ],
   "source": [
    "max = df[\"Aging\"].max()\n",
    "min = df[\"Aging\"].min()\n",
    "\n",
    "print(f\"Maximum aging: {max}\")\n",
    "print(f\"Minimum aging: {min}\")"
   ]
  },
  {
   "cell_type": "code",
   "execution_count": null,
   "metadata": {},
   "outputs": [
    {
     "name": "stdout",
     "output_type": "stream",
     "text": [
      "Maximum Customer ID: 99991\n",
      "Minimum Customer ID: 10095\n"
     ]
    }
   ],
   "source": [
    "max = df[\"Customer_Id\"].max()\n",
    "min = df[\"Customer_Id\"].min()\n",
    "\n",
    "print(f\"Maximum Customer ID: {max}\")\n",
    "print(f\"Minimum Customer ID: {min}\")"
   ]
  },
  {
   "cell_type": "code",
   "execution_count": null,
   "metadata": {},
   "outputs": [
    {
     "name": "stdout",
     "output_type": "stream",
     "text": [
      "['Female' 'Male']\n"
     ]
    }
   ],
   "source": [
    "print(df[\"Gender\"].unique())"
   ]
  },
  {
   "cell_type": "code",
   "execution_count": null,
   "metadata": {},
   "outputs": [
    {
     "name": "stdout",
     "output_type": "stream",
     "text": [
      "['Web' 'Mobile']\n"
     ]
    }
   ],
   "source": [
    "print(df[\"Device_Type\"].unique())"
   ]
  },
  {
   "cell_type": "code",
   "execution_count": null,
   "metadata": {},
   "outputs": [
    {
     "name": "stdout",
     "output_type": "stream",
     "text": [
      "['Member' 'Guest' 'First SignUp']\n"
     ]
    }
   ],
   "source": [
    "print(df[\"Customer_Login_type\"].unique())"
   ]
  },
  {
   "cell_type": "code",
   "execution_count": null,
   "metadata": {},
   "outputs": [
    {
     "name": "stdout",
     "output_type": "stream",
     "text": [
      "['Auto & Accessories' 'Fashion' 'Electronic' 'Home & Furniture']\n"
     ]
    }
   ],
   "source": [
    "print(df[\"Product_Category\"].unique())"
   ]
  },
  {
   "cell_type": "code",
   "execution_count": null,
   "metadata": {},
   "outputs": [
    {
     "name": "stdout",
     "output_type": "stream",
     "text": [
      "['Car Body Covers' 'Car Mat' 'Tyre' 'Car Pillow & Neck Rest'\n",
      " 'Car Speakers' 'Car Media Players' 'Bike Tyres' 'Car & Bike Care'\n",
      " 'Car Seat Covers' 'Formal Shoes' 'Casula Shoes' 'Suits' 'Shirts'\n",
      " 'T - Shirts' 'Running Shoes' 'Jeans' 'Titak watch' 'Fossil Watch'\n",
      " 'Sneakers' 'Sports Wear' 'LED' 'Watch' 'Keyboard' 'Samsung Mobile'\n",
      " 'Tablet' 'LCD' 'Speakers' 'Mixer/Juicer' 'Apple Laptop' 'Sofas'\n",
      " 'Bed Sheets' 'Towels' 'Umbrellas' 'Curtains' 'Beds' 'Shoe Rack'\n",
      " 'Sofa Covers' 'Dinning Tables' 'Dinner Crockery' 'Fans' 'Mouse' 'Iron']\n"
     ]
    }
   ],
   "source": [
    "print(df[\"Product\"].unique())"
   ]
  },
  {
   "cell_type": "code",
   "execution_count": null,
   "metadata": {},
   "outputs": [
    {
     "name": "stdout",
     "output_type": "stream",
     "text": [
      "Maximum Sales: 250\n",
      "Minimum Sales: 33\n"
     ]
    }
   ],
   "source": [
    "max = df[\"Sales\"].max()\n",
    "min = df[\"Sales\"].min()\n",
    "\n",
    "print(f\"Maximum Sales: {max}\")\n",
    "print(f\"Minimum Sales: {min}\")"
   ]
  },
  {
   "cell_type": "code",
   "execution_count": null,
   "metadata": {},
   "outputs": [
    {
     "name": "stdout",
     "output_type": "stream",
     "text": [
      "Maximum Quantity: 5\n",
      "Minimum Quantity: 1\n"
     ]
    }
   ],
   "source": [
    "max = df[\"Quantity\"].max()\n",
    "min = df[\"Quantity\"].min()\n",
    "\n",
    "print(f\"Maximum Quantity: {max}\")\n",
    "print(f\"Minimum Quantity: {min}\")"
   ]
  },
  {
   "cell_type": "code",
   "execution_count": null,
   "metadata": {},
   "outputs": [
    {
     "name": "stdout",
     "output_type": "stream",
     "text": [
      "Maximum Discount: 0.5\n",
      "Minimum Discount: 0.1\n"
     ]
    }
   ],
   "source": [
    "max = df[\"Discount\"].max()\n",
    "min = df[\"Discount\"].min()\n",
    "\n",
    "print(f\"Maximum Discount: {max}\")\n",
    "print(f\"Minimum Discount: {min}\")"
   ]
  },
  {
   "cell_type": "code",
   "execution_count": null,
   "metadata": {},
   "outputs": [
    {
     "name": "stdout",
     "output_type": "stream",
     "text": [
      "Maximum Profit: 167.5\n",
      "Minimum Profit: 0.5\n"
     ]
    }
   ],
   "source": [
    "max = df[\"Profit\"].max()\n",
    "min = df[\"Profit\"].min()\n",
    "\n",
    "print(f\"Maximum Profit: {max}\")\n",
    "print(f\"Minimum Profit: {min}\")"
   ]
  },
  {
   "cell_type": "code",
   "execution_count": null,
   "metadata": {},
   "outputs": [
    {
     "name": "stdout",
     "output_type": "stream",
     "text": [
      "Maximum Shipping Cost: 16.8\n",
      "Minimum Shipping Cost: 0.1\n"
     ]
    }
   ],
   "source": [
    "max = df[\"Shipping_Cost\"].max()\n",
    "min = df[\"Shipping_Cost\"].min()\n",
    "\n",
    "print(f\"Maximum Shipping Cost: {max}\")\n",
    "print(f\"Minimum Shipping Cost: {min}\")"
   ]
  },
  {
   "cell_type": "code",
   "execution_count": null,
   "metadata": {},
   "outputs": [
    {
     "name": "stdout",
     "output_type": "stream",
     "text": [
      "['Critical' 'Medium' 'High' 'Low']\n"
     ]
    }
   ],
   "source": [
    "print(df[\"Order_Priority\"].unique())"
   ]
  },
  {
   "cell_type": "code",
   "execution_count": null,
   "metadata": {},
   "outputs": [
    {
     "name": "stdout",
     "output_type": "stream",
     "text": [
      "['credit_card' 'money_order' 'debit_card' 'e_wallet']\n"
     ]
    },
    {
     "ename": "",
     "evalue": "",
     "output_type": "error",
     "traceback": [
      "\u001b[1;31mThe Kernel crashed while executing code in the the current cell or a previous cell. Please review the code in the cell(s) to identify a possible cause of the failure. Click <a href='https://aka.ms/vscodeJupyterKernelCrash'>here</a> for more info. View Jupyter <a href='command:jupyter.viewOutput'>log</a> for further details."
     ]
    }
   ],
   "source": [
    "print(df[\"Payment_method\"].unique())"
   ]
  }
 ],
 "metadata": {
  "kernelspec": {
   "display_name": "Python 3",
   "language": "python",
   "name": "python3"
  },
  "language_info": {
   "codemirror_mode": {
    "name": "ipython",
    "version": 3
   },
   "file_extension": ".py",
   "mimetype": "text/x-python",
   "name": "python",
   "nbconvert_exporter": "python",
   "pygments_lexer": "ipython3",
   "version": "3.11.5"
  }
 },
 "nbformat": 4,
 "nbformat_minor": 2
}
