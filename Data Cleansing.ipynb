{
 "cells": [
  {
   "cell_type": "markdown",
   "metadata": {},
   "source": [
    "# **Data Cleansing**"
   ]
  },
  {
   "cell_type": "code",
   "execution_count": 15,
   "metadata": {},
   "outputs": [],
   "source": [
    "import pandas as pd\n",
    "df = pd.read_csv(\"E-Com Dataset.csv\")"
   ]
  },
  {
   "cell_type": "code",
   "execution_count": 16,
   "metadata": {},
   "outputs": [
    {
     "data": {
      "text/plain": [
       "Order_Date             0\n",
       "Time                   0\n",
       "Aging                  0\n",
       "Customer_Id            0\n",
       "Gender                 0\n",
       "Device_Type            0\n",
       "Customer_Login_type    0\n",
       "Product_Category       0\n",
       "Product                0\n",
       "Sales                  0\n",
       "Quantity               0\n",
       "Discount               0\n",
       "Profit                 0\n",
       "Shipping_Cost          0\n",
       "Order_Priority         0\n",
       "Payment_method         0\n",
       "dtype: int64"
      ]
     },
     "execution_count": 16,
     "metadata": {},
     "output_type": "execute_result"
    }
   ],
   "source": [
    "#Mencari seberapa banyak null value nya ada \n",
    "df.isnull().sum()"
   ]
  },
  {
   "cell_type": "code",
   "execution_count": 17,
   "metadata": {},
   "outputs": [
    {
     "data": {
      "text/plain": [
       "Order_Date             0\n",
       "Time                   0\n",
       "Aging                  0\n",
       "Customer_Id            0\n",
       "Gender                 0\n",
       "Device_Type            0\n",
       "Customer_Login_type    0\n",
       "Product_Category       0\n",
       "Product                0\n",
       "Sales                  0\n",
       "Quantity               0\n",
       "Discount               0\n",
       "Profit                 0\n",
       "Shipping_Cost          0\n",
       "Order_Priority         0\n",
       "Payment_method         0\n",
       "dtype: int64"
      ]
     },
     "execution_count": 17,
     "metadata": {},
     "output_type": "execute_result"
    }
   ],
   "source": [
    "# Mendeteksi Null \n",
    "df.isna().sum()"
   ]
  },
  {
   "cell_type": "code",
   "execution_count": 18,
   "metadata": {},
   "outputs": [
    {
     "name": "stdout",
     "output_type": "stream",
     "text": [
      "<class 'pandas.core.frame.DataFrame'>\n",
      "RangeIndex: 2161 entries, 0 to 2160\n",
      "Data columns (total 16 columns):\n",
      " #   Column               Non-Null Count  Dtype  \n",
      "---  ------               --------------  -----  \n",
      " 0   Order_Date           2161 non-null   object \n",
      " 1   Time                 2161 non-null   object \n",
      " 2   Aging                2161 non-null   int64  \n",
      " 3   Customer_Id          2161 non-null   int64  \n",
      " 4   Gender               2161 non-null   object \n",
      " 5   Device_Type          2161 non-null   object \n",
      " 6   Customer_Login_type  2161 non-null   object \n",
      " 7   Product_Category     2161 non-null   object \n",
      " 8   Product              2161 non-null   object \n",
      " 9   Sales                2161 non-null   int64  \n",
      " 10  Quantity             2161 non-null   int64  \n",
      " 11  Discount             2161 non-null   float64\n",
      " 12  Profit               2161 non-null   float64\n",
      " 13  Shipping_Cost        2161 non-null   float64\n",
      " 14  Order_Priority       2161 non-null   object \n",
      " 15  Payment_method       2161 non-null   object \n",
      "dtypes: float64(3), int64(4), object(9)\n",
      "memory usage: 270.3+ KB\n",
      "None\n"
     ]
    }
   ],
   "source": [
    "# Mengeluarkan info yang null\n",
    "print(df.info())"
   ]
  },
  {
   "cell_type": "code",
   "execution_count": 19,
   "metadata": {},
   "outputs": [
    {
     "name": "stdout",
     "output_type": "stream",
     "text": [
      "Empty DataFrame\n",
      "Columns: [Order_Date, Time, Aging, Customer_Id, Gender, Device_Type, Customer_Login_type, Product_Category, Product, Sales, Quantity, Discount, Profit, Shipping_Cost, Order_Priority, Payment_method]\n",
      "Index: []\n"
     ]
    }
   ],
   "source": [
    "# Mengumpulkan data yang bernilai null\n",
    "null_data = df[df.isnull().any(axis=1)]\n",
    "\n",
    "# Menampilkan hasil\n",
    "print(null_data)"
   ]
  },
  {
   "cell_type": "code",
   "execution_count": 20,
   "metadata": {},
   "outputs": [],
   "source": [
    "# Membersihkan data yang kosong \n",
    "df.dropna(inplace = True)"
   ]
  },
  {
   "cell_type": "code",
   "execution_count": 21,
   "metadata": {},
   "outputs": [
    {
     "data": {
      "text/plain": [
       "Order_Date             0\n",
       "Time                   0\n",
       "Aging                  0\n",
       "Customer_Id            0\n",
       "Gender                 0\n",
       "Device_Type            0\n",
       "Customer_Login_type    0\n",
       "Product_Category       0\n",
       "Product                0\n",
       "Sales                  0\n",
       "Quantity               0\n",
       "Discount               0\n",
       "Profit                 0\n",
       "Shipping_Cost          0\n",
       "Order_Priority         0\n",
       "Payment_method         0\n",
       "dtype: int64"
      ]
     },
     "execution_count": 21,
     "metadata": {},
     "output_type": "execute_result"
    }
   ],
   "source": [
    "# Memverifikasi data sudah clean \n",
    "df.isna().sum()"
   ]
  }
 ],
 "metadata": {
  "kernelspec": {
   "display_name": "Python 3",
   "language": "python",
   "name": "python3"
  },
  "language_info": {
   "codemirror_mode": {
    "name": "ipython",
    "version": 3
   },
   "file_extension": ".py",
   "mimetype": "text/x-python",
   "name": "python",
   "nbconvert_exporter": "python",
   "pygments_lexer": "ipython3",
   "version": "3.11.5"
  }
 },
 "nbformat": 4,
 "nbformat_minor": 2
}
